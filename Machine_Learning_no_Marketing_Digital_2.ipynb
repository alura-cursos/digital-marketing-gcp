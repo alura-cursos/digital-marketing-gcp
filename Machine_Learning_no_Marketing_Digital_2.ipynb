{
 "cells": [
  {
   "cell_type": "code",
   "execution_count": 0,
   "metadata": {
    "colab": {},
    "colab_type": "code",
    "id": "7pXZO_Y0IY2G"
   },
   "outputs": [],
   "source": [
    "import pandas as pd"
   ]
  },
  {
   "cell_type": "code",
   "execution_count": 0,
   "metadata": {
    "colab": {},
    "colab_type": "code",
    "id": "pMrq0ZSAIY2J"
   },
   "outputs": [],
   "source": [
    "query = \"SELECT * FROM `bigquery-public-data.google_analytics_sample.ga_sessions_*` WHERE date BETWEEN '20170101' AND '20170131'\""
   ]
  },
  {
   "cell_type": "code",
   "execution_count": 0,
   "metadata": {
    "colab": {},
    "colab_type": "code",
    "id": "smUFa0cCIY2L",
    "outputId": "9e43bf98-3d9e-46b7-a533-fe5f46b2c8d5"
   },
   "outputs": [
    {
     "data": {
      "text/plain": [
       "\"SELECT * FROM `bigquery-public-data.google_analytics_sample.ga_sessions_*` WHERE date BETWEEN '20170101' AND '20170131'\""
      ]
     },
     "execution_count": 3,
     "metadata": {
      "tags": []
     },
     "output_type": "execute_result"
    }
   ],
   "source": [
    "query"
   ]
  },
  {
   "cell_type": "code",
   "execution_count": 0,
   "metadata": {
    "colab": {},
    "colab_type": "code",
    "id": "AOpSHTBxIY2O",
    "outputId": "2d19bf2e-1d06-409e-b7d6-7f712787f39f"
   },
   "outputs": [
    {
     "name": "stdout",
     "output_type": "stream",
     "text": [
      "Requesting query... ok.\n",
      "Job ID: d695836c-c0f2-42e4-8c26-ebd076fcf9fc\n",
      "Query running...\n",
      "  Elapsed 7.76 s. Waiting...\n",
      "  Elapsed 8.79 s. Waiting...\n",
      "  Elapsed 9.84 s. Waiting...\n",
      "  Elapsed 11.94 s. Waiting...\n",
      "  Elapsed 13.36 s. Waiting...\n",
      "  Elapsed 14.42 s. Waiting...\n",
      "  Elapsed 15.46 s. Waiting...\n",
      "  Elapsed 16.49 s. Waiting...\n",
      "  Elapsed 17.52 s. Waiting...\n",
      "  Elapsed 18.54 s. Waiting...\n",
      "  Elapsed 19.57 s. Waiting...\n",
      "  Elapsed 20.6 s. Waiting...\n",
      "Query done.\n",
      "Processed: 5.4 GB Billed: 5.4 GB\n",
      "Standard price: $0.03 USD\n",
      "\n",
      "Retrieving results...\n",
      "Got 64694 rows.\n",
      "\n",
      "Total time taken 807.67 s.\n",
      "Finished at 2019-07-03 21:53:00.\n"
     ]
    }
   ],
   "source": [
    "df = pd.read_gbq(query=query, project_id='reflected-mark-244922', dialect='standard', dtype={'visitId':object})"
   ]
  },
  {
   "cell_type": "code",
   "execution_count": 0,
   "metadata": {
    "colab": {},
    "colab_type": "code",
    "id": "PCYxWz0LIY2R",
    "outputId": "fa4970db-ac6a-42cd-e04c-0eff8679b1bc"
   },
   "outputs": [
    {
     "data": {
      "text/html": [
       "<div>\n",
       "<style scoped>\n",
       "    .dataframe tbody tr th:only-of-type {\n",
       "        vertical-align: middle;\n",
       "    }\n",
       "\n",
       "    .dataframe tbody tr th {\n",
       "        vertical-align: top;\n",
       "    }\n",
       "\n",
       "    .dataframe thead th {\n",
       "        text-align: right;\n",
       "    }\n",
       "</style>\n",
       "<table border=\"1\" class=\"dataframe\">\n",
       "  <thead>\n",
       "    <tr style=\"text-align: right;\">\n",
       "      <th></th>\n",
       "      <th>visitorId</th>\n",
       "      <th>visitNumber</th>\n",
       "      <th>visitId</th>\n",
       "      <th>visitStartTime</th>\n",
       "      <th>date</th>\n",
       "      <th>totals</th>\n",
       "      <th>trafficSource</th>\n",
       "      <th>device</th>\n",
       "      <th>geoNetwork</th>\n",
       "      <th>customDimensions</th>\n",
       "      <th>hits</th>\n",
       "      <th>fullVisitorId</th>\n",
       "      <th>userId</th>\n",
       "      <th>clientId</th>\n",
       "      <th>channelGrouping</th>\n",
       "      <th>socialEngagementType</th>\n",
       "    </tr>\n",
       "  </thead>\n",
       "  <tbody>\n",
       "    <tr>\n",
       "      <th>0</th>\n",
       "      <td>None</td>\n",
       "      <td>1</td>\n",
       "      <td>1485675881</td>\n",
       "      <td>1485675881</td>\n",
       "      <td>20170128</td>\n",
       "      <td>{'sessionQualityDim': None, 'hits': 1, 'visits...</td>\n",
       "      <td>{'adContent': None, 'adwordsClickInfo': {'isVi...</td>\n",
       "      <td>{'deviceCategory': 'desktop', 'screenColors': ...</td>\n",
       "      <td>{'longitude': 'not available in demo dataset',...</td>\n",
       "      <td>[]</td>\n",
       "      <td>[{'product': [], 'type': 'PAGE', 'refund': Non...</td>\n",
       "      <td>9110054506220104806</td>\n",
       "      <td>None</td>\n",
       "      <td>None</td>\n",
       "      <td>Organic Search</td>\n",
       "      <td>Not Socially Engaged</td>\n",
       "    </tr>\n",
       "    <tr>\n",
       "      <th>1</th>\n",
       "      <td>None</td>\n",
       "      <td>1</td>\n",
       "      <td>1485602993</td>\n",
       "      <td>1485602993</td>\n",
       "      <td>20170128</td>\n",
       "      <td>{'sessionQualityDim': None, 'hits': 1, 'visits...</td>\n",
       "      <td>{'adContent': None, 'adwordsClickInfo': {'isVi...</td>\n",
       "      <td>{'deviceCategory': 'tablet', 'screenColors': '...</td>\n",
       "      <td>{'longitude': 'not available in demo dataset',...</td>\n",
       "      <td>[{'index': 4, 'value': 'EMEA'}]</td>\n",
       "      <td>[{'product': [], 'type': 'PAGE', 'refund': Non...</td>\n",
       "      <td>3810132494152562005</td>\n",
       "      <td>None</td>\n",
       "      <td>None</td>\n",
       "      <td>Organic Search</td>\n",
       "      <td>Not Socially Engaged</td>\n",
       "    </tr>\n",
       "    <tr>\n",
       "      <th>2</th>\n",
       "      <td>None</td>\n",
       "      <td>1</td>\n",
       "      <td>1485628695</td>\n",
       "      <td>1485628695</td>\n",
       "      <td>20170128</td>\n",
       "      <td>{'sessionQualityDim': None, 'hits': 1, 'visits...</td>\n",
       "      <td>{'adContent': None, 'adwordsClickInfo': {'isVi...</td>\n",
       "      <td>{'deviceCategory': 'desktop', 'screenColors': ...</td>\n",
       "      <td>{'longitude': 'not available in demo dataset',...</td>\n",
       "      <td>[]</td>\n",
       "      <td>[{'product': [], 'type': 'PAGE', 'refund': Non...</td>\n",
       "      <td>4400063200645767842</td>\n",
       "      <td>None</td>\n",
       "      <td>None</td>\n",
       "      <td>Organic Search</td>\n",
       "      <td>Not Socially Engaged</td>\n",
       "    </tr>\n",
       "    <tr>\n",
       "      <th>3</th>\n",
       "      <td>None</td>\n",
       "      <td>1</td>\n",
       "      <td>1485597945</td>\n",
       "      <td>1485597945</td>\n",
       "      <td>20170128</td>\n",
       "      <td>{'sessionQualityDim': None, 'hits': 1, 'visits...</td>\n",
       "      <td>{'adContent': None, 'adwordsClickInfo': {'isVi...</td>\n",
       "      <td>{'deviceCategory': 'mobile', 'screenColors': '...</td>\n",
       "      <td>{'longitude': 'not available in demo dataset',...</td>\n",
       "      <td>[{'index': 4, 'value': 'EMEA'}]</td>\n",
       "      <td>[{'product': [], 'type': 'PAGE', 'refund': Non...</td>\n",
       "      <td>873940342507321146</td>\n",
       "      <td>None</td>\n",
       "      <td>None</td>\n",
       "      <td>Organic Search</td>\n",
       "      <td>Not Socially Engaged</td>\n",
       "    </tr>\n",
       "    <tr>\n",
       "      <th>4</th>\n",
       "      <td>None</td>\n",
       "      <td>1</td>\n",
       "      <td>1485644479</td>\n",
       "      <td>1485644479</td>\n",
       "      <td>20170128</td>\n",
       "      <td>{'sessionQualityDim': None, 'hits': 1, 'visits...</td>\n",
       "      <td>{'adContent': None, 'adwordsClickInfo': {'isVi...</td>\n",
       "      <td>{'deviceCategory': 'desktop', 'screenColors': ...</td>\n",
       "      <td>{'longitude': 'not available in demo dataset',...</td>\n",
       "      <td>[{'index': 4, 'value': 'EMEA'}]</td>\n",
       "      <td>[{'product': [], 'type': 'PAGE', 'refund': Non...</td>\n",
       "      <td>6583696268634928336</td>\n",
       "      <td>None</td>\n",
       "      <td>None</td>\n",
       "      <td>Organic Search</td>\n",
       "      <td>Not Socially Engaged</td>\n",
       "    </tr>\n",
       "  </tbody>\n",
       "</table>\n",
       "</div>"
      ],
      "text/plain": [
       "  visitorId  visitNumber     visitId  visitStartTime      date  \\\n",
       "0      None            1  1485675881      1485675881  20170128   \n",
       "1      None            1  1485602993      1485602993  20170128   \n",
       "2      None            1  1485628695      1485628695  20170128   \n",
       "3      None            1  1485597945      1485597945  20170128   \n",
       "4      None            1  1485644479      1485644479  20170128   \n",
       "\n",
       "                                              totals  \\\n",
       "0  {'sessionQualityDim': None, 'hits': 1, 'visits...   \n",
       "1  {'sessionQualityDim': None, 'hits': 1, 'visits...   \n",
       "2  {'sessionQualityDim': None, 'hits': 1, 'visits...   \n",
       "3  {'sessionQualityDim': None, 'hits': 1, 'visits...   \n",
       "4  {'sessionQualityDim': None, 'hits': 1, 'visits...   \n",
       "\n",
       "                                       trafficSource  \\\n",
       "0  {'adContent': None, 'adwordsClickInfo': {'isVi...   \n",
       "1  {'adContent': None, 'adwordsClickInfo': {'isVi...   \n",
       "2  {'adContent': None, 'adwordsClickInfo': {'isVi...   \n",
       "3  {'adContent': None, 'adwordsClickInfo': {'isVi...   \n",
       "4  {'adContent': None, 'adwordsClickInfo': {'isVi...   \n",
       "\n",
       "                                              device  \\\n",
       "0  {'deviceCategory': 'desktop', 'screenColors': ...   \n",
       "1  {'deviceCategory': 'tablet', 'screenColors': '...   \n",
       "2  {'deviceCategory': 'desktop', 'screenColors': ...   \n",
       "3  {'deviceCategory': 'mobile', 'screenColors': '...   \n",
       "4  {'deviceCategory': 'desktop', 'screenColors': ...   \n",
       "\n",
       "                                          geoNetwork  \\\n",
       "0  {'longitude': 'not available in demo dataset',...   \n",
       "1  {'longitude': 'not available in demo dataset',...   \n",
       "2  {'longitude': 'not available in demo dataset',...   \n",
       "3  {'longitude': 'not available in demo dataset',...   \n",
       "4  {'longitude': 'not available in demo dataset',...   \n",
       "\n",
       "                  customDimensions  \\\n",
       "0                               []   \n",
       "1  [{'index': 4, 'value': 'EMEA'}]   \n",
       "2                               []   \n",
       "3  [{'index': 4, 'value': 'EMEA'}]   \n",
       "4  [{'index': 4, 'value': 'EMEA'}]   \n",
       "\n",
       "                                                hits        fullVisitorId  \\\n",
       "0  [{'product': [], 'type': 'PAGE', 'refund': Non...  9110054506220104806   \n",
       "1  [{'product': [], 'type': 'PAGE', 'refund': Non...  3810132494152562005   \n",
       "2  [{'product': [], 'type': 'PAGE', 'refund': Non...  4400063200645767842   \n",
       "3  [{'product': [], 'type': 'PAGE', 'refund': Non...   873940342507321146   \n",
       "4  [{'product': [], 'type': 'PAGE', 'refund': Non...  6583696268634928336   \n",
       "\n",
       "  userId clientId channelGrouping  socialEngagementType  \n",
       "0   None     None  Organic Search  Not Socially Engaged  \n",
       "1   None     None  Organic Search  Not Socially Engaged  \n",
       "2   None     None  Organic Search  Not Socially Engaged  \n",
       "3   None     None  Organic Search  Not Socially Engaged  \n",
       "4   None     None  Organic Search  Not Socially Engaged  "
      ]
     },
     "execution_count": 5,
     "metadata": {
      "tags": []
     },
     "output_type": "execute_result"
    }
   ],
   "source": [
    "df.head()"
   ]
  },
  {
   "cell_type": "code",
   "execution_count": 0,
   "metadata": {
    "colab": {},
    "colab_type": "code",
    "id": "_M6c49T2IY2U",
    "outputId": "8015ea74-4b0c-412b-e38a-7a5d1c8ca6ba"
   },
   "outputs": [
    {
     "data": {
      "text/plain": [
       "(64694, 16)"
      ]
     },
     "execution_count": 6,
     "metadata": {
      "tags": []
     },
     "output_type": "execute_result"
    }
   ],
   "source": [
    "df.shape"
   ]
  },
  {
   "cell_type": "code",
   "execution_count": 0,
   "metadata": {
    "colab": {},
    "colab_type": "code",
    "id": "MCtllQw4IY2X"
   },
   "outputs": [],
   "source": [
    "produtos_sessao = []\n",
    "precos_sessao = []\n",
    "\n",
    "for linha in df.hits:\n",
    "  produtos_hit = []\n",
    "  precos_hit = []\n",
    "  for hit in linha:\n",
    "    for produto in hit['product']:\n",
    "      produtos_hit.append(produto['productSKU'])\n",
    "      precos_hit.append(produto['productPrice'])\n",
    "  produtos_sessao.append(produtos_hit)\n",
    "  precos_sessao.append(sum(precos_hit))"
   ]
  },
  {
   "cell_type": "code",
   "execution_count": 0,
   "metadata": {
    "colab": {},
    "colab_type": "code",
    "id": "bc-iKU6zIY2Z",
    "outputId": "0cdedf98-9362-42e5-fe59-5428b5b0563e"
   },
   "outputs": [
    {
     "data": {
      "text/plain": [
       "64694"
      ]
     },
     "execution_count": 10,
     "metadata": {
      "tags": []
     },
     "output_type": "execute_result"
    }
   ],
   "source": [
    "len(produtos_sessao)"
   ]
  },
  {
   "cell_type": "code",
   "execution_count": 0,
   "metadata": {
    "colab": {},
    "colab_type": "code",
    "id": "qMOT3mUAIY2b",
    "outputId": "4851d1ef-a8e9-4443-dd85-00251252cf11"
   },
   "outputs": [
    {
     "data": {
      "text/plain": [
       "[]"
      ]
     },
     "execution_count": 11,
     "metadata": {
      "tags": []
     },
     "output_type": "execute_result"
    }
   ],
   "source": [
    "produtos_sessao[365]"
   ]
  },
  {
   "cell_type": "code",
   "execution_count": 0,
   "metadata": {
    "colab": {},
    "colab_type": "code",
    "id": "u1ImrvMFIY2f",
    "outputId": "0594981e-9e90-41f9-8ab3-971beecdcd54"
   },
   "outputs": [
    {
     "data": {
      "text/plain": [
       "0"
      ]
     },
     "execution_count": 12,
     "metadata": {
      "tags": []
     },
     "output_type": "execute_result"
    }
   ],
   "source": [
    "precos_sessao[365]"
   ]
  }
 ],
 "metadata": {
  "colab": {
   "name": "Machine Learning no Marketing Digital 2.ipynb",
   "provenance": [],
   "version": "0.3.2"
  },
  "kernelspec": {
   "display_name": "Python 3",
   "language": "python",
   "name": "python3"
  },
  "language_info": {
   "codemirror_mode": {
    "name": "ipython",
    "version": 3
   },
   "file_extension": ".py",
   "mimetype": "text/x-python",
   "name": "python",
   "nbconvert_exporter": "python",
   "pygments_lexer": "ipython3",
   "version": "3.7.1"
  }
 },
 "nbformat": 4,
 "nbformat_minor": 1
}
